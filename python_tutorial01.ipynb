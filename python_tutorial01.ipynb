{
  "nbformat": 4,
  "nbformat_minor": 0,
  "metadata": {
    "colab": {
      "name": "python_tutorial01.ipynb",
      "provenance": [],
      "authorship_tag": "ABX9TyOUUfwAjDmsnA5U9GSSQQL1",
      "include_colab_link": true
    },
    "kernelspec": {
      "name": "python3",
      "display_name": "Python 3"
    }
  },
  "cells": [
    {
      "cell_type": "markdown",
      "metadata": {
        "id": "view-in-github",
        "colab_type": "text"
      },
      "source": [
        "<a href=\"https://colab.research.google.com/github/pradeepbiswal/pbs/blob/master/python_tutorial01.ipynb\" target=\"_parent\"><img src=\"https://colab.research.google.com/assets/colab-badge.svg\" alt=\"Open In Colab\"/></a>"
      ]
    },
    {
      "cell_type": "code",
      "metadata": {
        "id": "NYObwQwLIfVs",
        "colab": {
          "base_uri": "https://localhost:8080/"
        },
        "outputId": "6194dc75-d048-4630-afc1-ea4db2329ca1"
      },
      "source": [
        "import pandas as pd\r\n",
        "import statsmodels.api as sm\r\n",
        "import pandas.util.testing as tm\r\n",
        "from sklearn.datasets import fetch_california_housing\r\n",
        "from sklearn.datasets import load_boston"
      ],
      "execution_count": 2,
      "outputs": [
        {
          "output_type": "stream",
          "text": [
            "/usr/local/lib/python3.6/dist-packages/statsmodels/tools/_testing.py:19: FutureWarning: pandas.util.testing is deprecated. Use the functions in the public API at pandas.testing instead.\n",
            "  import pandas.util.testing as tm\n"
          ],
          "name": "stderr"
        }
      ]
    },
    {
      "cell_type": "code",
      "metadata": {
        "colab": {
          "base_uri": "https://localhost:8080/"
        },
        "id": "ldX27wHIImjs",
        "outputId": "eb6e0c93-237c-46c4-d865-f22403bbc51f"
      },
      "source": [
        "\r\n",
        "price = [160,180,200,220,240,260,280]\r\n",
        "sale = [126,103,82,75,82,40,20]\r\n",
        "cars = [0,9,19,5,25,1,20]\r\n",
        "priceDF = pd.DataFrame(price, columns=list('x'))\r\n",
        "saleDF = pd.DataFrame(sale, columns=list('y'))\r\n",
        "carsDf = pd.DataFrame(cars, columns=list('z'))\r\n",
        "houseDf = pd.concat([priceDF,saleDF,carsDf],axis=1)\r\n",
        "X = houseDf.drop(['y'], axis=1)\r\n",
        "y = houseDf.y\r\n",
        "Xc = sm.add_constant(X)\r\n",
        "linear_regression = sm.OLS(y,Xc)\r\n",
        "fitted_model = linear_regression.fit()\r\n",
        "fitted_model.summary()\r\n",
        "\r\n",
        "boston = load_boston()\r\n",
        "california = fetch_california_housing()\r\n",
        "dataset = pd.DataFrame(boston.data, columns=boston.feature_names)\r\n",
        "dataset['target'] = boston.target\r\n",
        "print(dataset.head())\r\n"
      ],
      "execution_count": 3,
      "outputs": [
        {
          "output_type": "stream",
          "text": [
            "/usr/local/lib/python3.6/dist-packages/statsmodels/stats/stattools.py:71: ValueWarning: omni_normtest is not valid with less than 8 observations; 7 samples were given.\n",
            "  \"samples were given.\" % int(n), ValueWarning)\n",
            "Downloading Cal. housing from https://ndownloader.figshare.com/files/5976036 to /root/scikit_learn_data\n"
          ],
          "name": "stderr"
        },
        {
          "output_type": "stream",
          "text": [
            "      CRIM    ZN  INDUS  CHAS    NOX  ...    TAX  PTRATIO       B  LSTAT  target\n",
            "0  0.00632  18.0   2.31   0.0  0.538  ...  296.0     15.3  396.90   4.98    24.0\n",
            "1  0.02731   0.0   7.07   0.0  0.469  ...  242.0     17.8  396.90   9.14    21.6\n",
            "2  0.02729   0.0   7.07   0.0  0.469  ...  242.0     17.8  392.83   4.03    34.7\n",
            "3  0.03237   0.0   2.18   0.0  0.458  ...  222.0     18.7  394.63   2.94    33.4\n",
            "4  0.06905   0.0   2.18   0.0  0.458  ...  222.0     18.7  396.90   5.33    36.2\n",
            "\n",
            "[5 rows x 14 columns]\n"
          ],
          "name": "stdout"
        }
      ]
    }
  ]
}