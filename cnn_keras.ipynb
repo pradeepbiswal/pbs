{
  "nbformat": 4,
  "nbformat_minor": 0,
  "metadata": {
    "colab": {
      "name": "cnn_keras.ipynb",
      "provenance": [],
      "authorship_tag": "ABX9TyOXR0aIbmpQ0NArZk86sW2S",
      "include_colab_link": true
    },
    "kernelspec": {
      "name": "python3",
      "display_name": "Python 3"
    }
  },
  "cells": [
    {
      "cell_type": "markdown",
      "metadata": {
        "id": "view-in-github",
        "colab_type": "text"
      },
      "source": [
        "<a href=\"https://colab.research.google.com/github/pradeepbiswal/pbs/blob/master/cnn_keras.ipynb\" target=\"_parent\"><img src=\"https://colab.research.google.com/assets/colab-badge.svg\" alt=\"Open In Colab\"/></a>"
      ]
    },
    {
      "cell_type": "code",
      "metadata": {
        "colab": {
          "base_uri": "https://localhost:8080/"
        },
        "id": "B2fiLx0J8-cQ",
        "outputId": "f0d5a110-6d73-4af7-fc10-91b45ac418e8"
      },
      "source": [
        "import pandas as pd\r\n",
        "import statsmodels.api as sm\r\n",
        "import pandas.util.testing as tm\r\n",
        "from sklearn.datasets import fetch_california_housing\r\n",
        "from sklearn.datasets import load_boston\r\n",
        "from keras.datasets import mnist\r\n",
        "from keras.utils import to_categorical"
      ],
      "execution_count": 2,
      "outputs": [
        {
          "output_type": "stream",
          "text": [
            "/usr/local/lib/python3.6/dist-packages/statsmodels/tools/_testing.py:19: FutureWarning: pandas.util.testing is deprecated. Use the functions in the public API at pandas.testing instead.\n",
            "  import pandas.util.testing as tm\n"
          ],
          "name": "stderr"
        }
      ]
    },
    {
      "cell_type": "code",
      "metadata": {
        "id": "NynDIe_G981a"
      },
      "source": [
        "#download mnist data and split into train and test sets\r\n",
        "(X_train, y_train), (X_test, y_test) = mnist.load_data()"
      ],
      "execution_count": 4,
      "outputs": []
    },
    {
      "cell_type": "code",
      "metadata": {
        "id": "w53rNfMo-hK5",
        "outputId": "0475dc29-87a2-4223-9830-24b857b3ec1b",
        "colab": {
          "base_uri": "https://localhost:8080/",
          "height": 282
        }
      },
      "source": [
        "#plot the first image in the dataset\r\n",
        "import matplotlib.pyplot as plt\r\n",
        "plt.imshow(X_train[0])"
      ],
      "execution_count": 6,
      "outputs": [
        {
          "output_type": "execute_result",
          "data": {
            "text/plain": [
              "<matplotlib.image.AxesImage at 0x7f490c29f208>"
            ]
          },
          "metadata": {
            "tags": []
          },
          "execution_count": 6
        },
        {
          "output_type": "display_data",
          "data": {
            "image/png": "[encoded data removed]",
            "text/plain": [
              "<Figure size 432x288 with 1 Axes>"
            ]
          },
          "metadata": {
            "tags": [],
            "needs_background": "light"
          }
        }
      ]
    },
    {
      "cell_type": "code",
      "metadata": {
        "id": "3I1fMzM1-wLr",
        "outputId": "d513942a-ce05-4ac0-8e46-058a9ab47357",
        "colab": {
          "base_uri": "https://localhost:8080/"
        }
      },
      "source": [
        "#check image shape\r\n",
        "X_train[0].shape"
      ],
      "execution_count": 7,
      "outputs": [
        {
          "output_type": "execute_result",
          "data": {
            "text/plain": [
              "(28, 28)"
            ]
          },
          "metadata": {
            "tags": []
          },
          "execution_count": 7
        }
      ]
    },
    {
      "cell_type": "code",
      "metadata": {
        "id": "4pC2aEuj-5ja"
      },
      "source": [
        "#reshape data to fit model\r\n",
        "X_train = X_train.reshape(60000,28,28,1)\r\n",
        "X_test = X_test.reshape(10000,28,28,1)"
      ],
      "execution_count": 8,
      "outputs": []
    },
    {
      "cell_type": "code",
      "metadata": {
        "id": "Um8BCq7P_Tce",
        "outputId": "d8745c32-7fd3-4ffd-b023-c2569ff68be6",
        "colab": {
          "base_uri": "https://localhost:8080/"
        }
      },
      "source": [
        "from keras.utils import to_categorical\r\n",
        "#one-hot encode target column.We need to ‘one-hot-encode’ our target variable. This means that a column will be created for each output category and a binary variable is inputted for each category. For example, we saw that the first image in the dataset is a 5. This means that the sixth number in our array will have a 1 and the rest of the array will be filled with 0.\r\n",
        "y_train = to_categorical(y_train)\r\n",
        "y_test = to_categorical(y_test)\r\n",
        "y_train[0]"
      ],
      "execution_count": 9,
      "outputs": [
        {
          "output_type": "execute_result",
          "data": {
            "text/plain": [
              "array([0., 0., 0., 0., 0., 1., 0., 0., 0., 0.], dtype=float32)"
            ]
          },
          "metadata": {
            "tags": []
          },
          "execution_count": 9
        }
      ]
    },
    {
      "cell_type": "markdown",
      "metadata": {
        "id": "EUUltVcr_1_8"
      },
      "source": [
        "Building the **MODEL** "
      ]
    },
    {
      "cell_type": "code",
      "metadata": {
        "id": "587_TNZn_8-Q"
      },
      "source": [
        "from keras.models import Sequential\r\n",
        "from keras.layers import Dense, Conv2D, Flatten\r\n",
        "#create model\r\n",
        "model = Sequential()\r\n",
        "#add model layers\r\n",
        "model.add(Conv2D(64, kernel_size=3, activation='relu', input_shape=(28,28,1)))\r\n",
        "model.add(Conv2D(32, kernel_size=3, activation='relu'))\r\n",
        "model.add(Flatten())\r\n",
        "model.add(Dense(10, activation='softmax'))"
      ],
      "execution_count": 12,
      "outputs": []
    },
    {
      "cell_type": "code",
      "metadata": {
        "id": "HBsSJ1wCAb8Z"
      },
      "source": [
        "#compile model using accuracy to measure model performance\r\n",
        "model.compile(optimizer='adam', loss='categorical_crossentropy', metrics=['accuracy'])"
      ],
      "execution_count": 13,
      "outputs": []
    },
    {
      "cell_type": "code",
      "metadata": {
        "id": "1QtcsAf9Ak2d",
        "outputId": "23a428ab-5cd5-4d12-d00e-6a7d1e8117de",
        "colab": {
          "base_uri": "https://localhost:8080/"
        }
      },
      "source": [
        "#train the model\r\n",
        "model.fit(X_train, y_train, validation_data=(X_test, y_test), epochs=3)"
      ],
      "execution_count": 14,
      "outputs": [
        {
          "output_type": "stream",
          "text": [
            "Epoch 1/3\n",
            "1875/1875 [==============================] - 160s 85ms/step - loss: 0.6954 - accuracy: 0.9121 - val_loss: 0.0781 - val_accuracy: 0.9754\n",
            "Epoch 2/3\n",
            "1875/1875 [==============================] - 159s 85ms/step - loss: 0.0549 - accuracy: 0.9832 - val_loss: 0.0827 - val_accuracy: 0.9763\n",
            "Epoch 3/3\n",
            "1875/1875 [==============================] - 157s 84ms/step - loss: 0.0390 - accuracy: 0.9882 - val_loss: 0.0872 - val_accuracy: 0.9746\n"
          ],
          "name": "stdout"
        },
        {
          "output_type": "execute_result",
          "data": {
            "text/plain": [
              "<tensorflow.python.keras.callbacks.History at 0x7f4908dfc198>"
            ]
          },
          "metadata": {
            "tags": []
          },
          "execution_count": 14
        }
      ]
    },
    {
      "cell_type": "code",
      "metadata": {
        "id": "CyrddBD9CeWF",
        "outputId": "24587d63-ad24-4d83-83af-e6abb46ce2ae",
        "colab": {
          "base_uri": "https://localhost:8080/"
        }
      },
      "source": [
        "#predict first 4 images in the test set\r\n",
        "model.predict(X_test[:4])"
      ],
      "execution_count": 15,
      "outputs": [
        {
          "output_type": "execute_result",
          "data": {
            "text/plain": [
              "array([[2.2474064e-10, 6.2869780e-14, 2.9431634e-11, 4.6274099e-08,\n",
              "        1.5287873e-11, 9.4622639e-13, 3.5228613e-15, 9.9999988e-01,\n",
              "        8.7256709e-11, 1.5063610e-07],\n",
              "       [3.1602660e-05, 9.7117621e-09, 9.9996769e-01, 6.8833026e-07,\n",
              "        1.3016312e-12, 8.6147635e-14, 2.2661768e-08, 5.3414894e-12,\n",
              "        3.8674810e-09, 8.1774634e-14],\n",
              "       [3.0244461e-08, 9.9815971e-01, 5.5601879e-04, 1.7363344e-10,\n",
              "        7.9532084e-04, 5.9787567e-07, 1.3959731e-08, 1.2223632e-04,\n",
              "        3.6598384e-04, 1.8750731e-07],\n",
              "       [9.9999917e-01, 4.4949594e-13, 1.3380584e-10, 4.4635343e-14,\n",
              "        6.3155266e-11, 1.5192824e-09, 1.7410554e-07, 6.8125849e-10,\n",
              "        4.0135490e-12, 6.9372959e-07]], dtype=float32)"
            ]
          },
          "metadata": {
            "tags": []
          },
          "execution_count": 15
        }
      ]
    },
    {
      "cell_type": "code",
      "metadata": {
        "id": "M-ZMimzpCo8W",
        "outputId": "6d537c1f-5556-47c4-f6a5-43c7b274df8f",
        "colab": {
          "base_uri": "https://localhost:8080/"
        }
      },
      "source": [
        "#actual results for first 4 images in test set\r\n",
        "y_test[:4]"
      ],
      "execution_count": 16,
      "outputs": [
        {
          "output_type": "execute_result",
          "data": {
            "text/plain": [
              "array([[0., 0., 0., 0., 0., 0., 0., 1., 0., 0.],\n",
              "       [0., 0., 1., 0., 0., 0., 0., 0., 0., 0.],\n",
              "       [0., 1., 0., 0., 0., 0., 0., 0., 0., 0.],\n",
              "       [1., 0., 0., 0., 0., 0., 0., 0., 0., 0.]], dtype=float32)"
            ]
          },
          "metadata": {
            "tags": []
          },
          "execution_count": 16
        }
      ]
    }
  ]
}